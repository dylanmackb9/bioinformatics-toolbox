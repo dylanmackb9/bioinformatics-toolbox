from utils import read_fasta









