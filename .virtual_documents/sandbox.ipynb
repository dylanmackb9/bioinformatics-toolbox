from scripts.utils import read_fasta
import os


open(os.path.expanduser("~/Development/gitreps/bioinformatics-toolbox/data/example_FASTA_data.rtf"))



p = os.path.expanduser("~/Development/gitreps/bioinformatics-toolbox/data/example_FASTA_data.rtf")


t = read_fasta(p)


t



