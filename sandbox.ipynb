{
 "cells": [
  {
   "cell_type": "code",
   "execution_count": 1,
   "id": "1a67e062-2f64-49c0-8861-a9cc93a26222",
   "metadata": {},
   "outputs": [],
   "source": [
    "from scripts.utils import read_fasta\n",
    "import os\n",
    "import pandas as pd\n",
    "\n",
    "data_path = os.path.expanduser(\"~/Development/gitreps/bioinformatics-toolbox/data/rosalind_cons.txt\")"
   ]
  },
  {
   "cell_type": "code",
   "execution_count": 2,
   "id": "3216efe7-6322-4686-b3b3-be48eefb9cac",
   "metadata": {},
   "outputs": [],
   "source": [
    "## Ingest data\n",
    "t = read_fasta(data_path)"
   ]
  },
  {
   "cell_type": "code",
   "execution_count": 12,
   "id": "f159d942",
   "metadata": {},
   "outputs": [],
   "source": [
    "def answer(n, m):\n",
    "    \"\"\"\n",
    "    n: number of months\n",
    "    m: months rabbits live before death\n",
    "    \"\"\"\n",
    "\n",
    "\n",
    "    Adult = 0\n",
    "    Birth = 1\n",
    "    Senior = 0\n",
    "    for i in range(1, n+1):\n",
    "        ## stables \n",
    "        d = Adult\n",
    "        e = Birth\n",
    "        f = Senior\n",
    "        print(Birth, Adult, Senior, Adult + Senior + Birth)\n",
    "\n",
    "        # Movement\n",
    "        # Adult = e - f\n",
    "        Adult = e\n",
    "        Senior = d\n",
    "        Birth = d + f\n",
    "\n",
    "    return Adult + Senior + Birth\n",
    "\n"
   ]
  },
  {
   "cell_type": "code",
   "execution_count": null,
   "id": "493d7e37",
   "metadata": {},
   "outputs": [],
   "source": [
    "def answer(n, m):\n",
    "    \"\"\"\n",
    "    n: number of months\n",
    "    m: months rabbits live before death\n",
    "    \"\"\"\n",
    "\n",
    "\n",
    "    Adult = 0\n",
    "    Birth = 1\n",
    "    Senior = 0\n",
    "    for i in range(1, n+1):\n",
    "        ## stables \n",
    "        d = Adult\n",
    "        e = Birth\n",
    "        f = Senior\n",
    "        print(Birth, Adult, Senior, Adult + Senior + Birth)\n",
    "\n",
    "        # Movement\n",
    "        # Adult = e - f\n",
    "        Adult = e\n",
    "        Senior = d\n",
    "        Birth = d + f\n",
    "\n",
    "    return Adult + Senior + Birth "
   ]
  },
  {
   "cell_type": "code",
   "execution_count": 18,
   "id": "84d2f82d",
   "metadata": {},
   "outputs": [],
   "source": [
    "def rabbit_population(n, M):\n",
    "    # Initialize the DP array for age groups\n",
    "    dp = [0] * M\n",
    "    dp[0] = 1  # At month 1, there is 1 pair of baby rabbits\n",
    "    \n",
    "    # Iterate through months\n",
    "    for month in range(2, n + 1):\n",
    "        # Compute new babies\n",
    "        new_babies = sum(dp[1:])  # All non-baby rabbits reproduce\n",
    "        \n",
    "        # Age the rabbits\n",
    "        for i in range(M-1, 0, -1):\n",
    "            dp[i] = dp[i-1]\n",
    "        \n",
    "        # Update newborns\n",
    "        dp[0] = new_babies\n",
    "    \n",
    "    # Total population is the sum of all age groups\n",
    "    return sum(dp)"
   ]
  },
  {
   "cell_type": "code",
   "execution_count": 21,
   "id": "ff2d40a7",
   "metadata": {},
   "outputs": [
    {
     "data": {
      "text/plain": [
       "97817789207983710"
      ]
     },
     "execution_count": 21,
     "metadata": {},
     "output_type": "execute_result"
    }
   ],
   "source": [
    "rabbit_population(83, 16)"
   ]
  },
  {
   "cell_type": "code",
   "execution_count": 17,
   "id": "b6b70805",
   "metadata": {},
   "outputs": [
    {
     "name": "stdout",
     "output_type": "stream",
     "text": [
      "Birth Adult Senior\n",
      "1 0 0 1\n",
      "0 1 0 1\n",
      "1 0 1 2\n",
      "1 1 0 2\n",
      "1 1 1 3\n",
      "2 1 1 4\n",
      "2 2 1 5\n",
      "3 2 2 7\n",
      "4 3 2 9\n",
      "5 4 3 12\n",
      "7 5 4 16\n",
      "9 7 5 21\n",
      "12 9 7 28\n",
      "16 12 9 37\n",
      "21 16 12 49\n",
      "28 21 16 65\n",
      "37 28 21 86\n",
      "49 37 28 114\n",
      "65 49 37 151\n",
      "86 65 49 200\n",
      "114 86 65 265\n",
      "151 114 86 351\n",
      "200 151 114 465\n",
      "265 200 151 616\n",
      "351 265 200 816\n",
      "465 351 265 1081\n",
      "616 465 351 1432\n",
      "816 616 465 1897\n",
      "1081 816 616 2513\n",
      "1432 1081 816 3329\n",
      "1897 1432 1081 4410\n",
      "2513 1897 1432 5842\n",
      "3329 2513 1897 7739\n",
      "4410 3329 2513 10252\n",
      "5842 4410 3329 13581\n",
      "7739 5842 4410 17991\n",
      "10252 7739 5842 23833\n",
      "13581 10252 7739 31572\n",
      "17991 13581 10252 41824\n",
      "23833 17991 13581 55405\n",
      "31572 23833 17991 73396\n",
      "41824 31572 23833 97229\n",
      "55405 41824 31572 128801\n",
      "73396 55405 41824 170625\n",
      "97229 73396 55405 226030\n",
      "128801 97229 73396 299426\n",
      "170625 128801 97229 396655\n",
      "226030 170625 128801 525456\n",
      "299426 226030 170625 696081\n",
      "396655 299426 226030 922111\n",
      "525456 396655 299426 1221537\n",
      "696081 525456 396655 1618192\n",
      "922111 696081 525456 2143648\n",
      "1221537 922111 696081 2839729\n",
      "1618192 1221537 922111 3761840\n",
      "2143648 1618192 1221537 4983377\n",
      "2839729 2143648 1618192 6601569\n",
      "3761840 2839729 2143648 8745217\n",
      "4983377 3761840 2839729 11584946\n",
      "6601569 4983377 3761840 15346786\n",
      "8745217 6601569 4983377 20330163\n",
      "11584946 8745217 6601569 26931732\n",
      "15346786 11584946 8745217 35676949\n",
      "20330163 15346786 11584946 47261895\n",
      "26931732 20330163 15346786 62608681\n",
      "35676949 26931732 20330163 82938844\n",
      "47261895 35676949 26931732 109870576\n",
      "62608681 47261895 35676949 145547525\n",
      "82938844 62608681 47261895 192809420\n",
      "109870576 82938844 62608681 255418101\n",
      "145547525 109870576 82938844 338356945\n",
      "192809420 145547525 109870576 448227521\n",
      "255418101 192809420 145547525 593775046\n",
      "338356945 255418101 192809420 786584466\n",
      "448227521 338356945 255418101 1042002567\n",
      "593775046 448227521 338356945 1380359512\n",
      "786584466 593775046 448227521 1828587033\n",
      "1042002567 786584466 593775046 2422362079\n",
      "1380359512 1042002567 786584466 3208946545\n",
      "1828587033 1380359512 1042002567 4250949112\n",
      "2422362079 1828587033 1380359512 5631308624\n",
      "3208946545 2422362079 1828587033 7459895657\n",
      "4250949112 3208946545 2422362079 9882257736\n",
      "5631308624 4250949112 3208946545 13091204281\n",
      "7459895657 5631308624 4250949112 17342153393\n",
      "9882257736 7459895657 5631308624 22973462017\n",
      "13091204281 9882257736 7459895657 30433357674\n",
      "17342153393 13091204281 9882257736 40315615410\n",
      "22973462017 17342153393 13091204281 53406819691\n",
      "30433357674 22973462017 17342153393 70748973084\n",
      "40315615410 30433357674 22973462017 93722435101\n",
      "53406819691 40315615410 30433357674 124155792775\n",
      "70748973084 53406819691 40315615410 164471408185\n",
      "93722435101 70748973084 53406819691 217878227876\n",
      "124155792775 93722435101 70748973084 288627200960\n",
      "164471408185 124155792775 93722435101 382349636061\n",
      "217878227876 164471408185 124155792775 506505428836\n",
      "288627200960 217878227876 164471408185 670976837021\n",
      "382349636061 288627200960 217878227876 888855064897\n",
      "506505428836 382349636061 288627200960 1177482265857\n"
     ]
    },
    {
     "data": {
      "text/plain": [
       "1559831901918"
      ]
     },
     "execution_count": 17,
     "metadata": {},
     "output_type": "execute_result"
    }
   ],
   "source": [
    "print(\"Birth Adult Senior\")\n",
    "answer(100, 20)"
   ]
  },
  {
   "cell_type": "code",
   "execution_count": 7,
   "id": "4e293508",
   "metadata": {},
   "outputs": [
    {
     "name": "stdout",
     "output_type": "stream",
     "text": [
      "3\n"
     ]
    }
   ],
   "source": [
    "for i in range(3,3+1):\n",
    "    print(i)"
   ]
  },
  {
   "cell_type": "code",
   "execution_count": null,
   "id": "823c1c53",
   "metadata": {},
   "outputs": [],
   "source": [
    "fn = fn-1 + fn-2 - fn-3"
   ]
  },
  {
   "cell_type": "code",
   "execution_count": null,
   "id": "691bc904",
   "metadata": {},
   "outputs": [],
   "source": [
    "fn = (alive) + (reproduce)\n",
    "fn = fn-1 + fn-2 - (fn-2 - fn-3)\n",
    "fn = fn-1 + fn-2 - fn-2 + fn-3"
   ]
  },
  {
   "cell_type": "code",
   "execution_count": null,
   "id": "3d1f5587",
   "metadata": {},
   "outputs": [],
   "source": [
    "1 1 2 2 3 4\n",
    "1 1 2 2 3\n"
   ]
  },
  {
   "cell_type": "code",
   "execution_count": null,
   "id": "6161b5a7",
   "metadata": {},
   "outputs": [],
   "source": [
    "       1 2 3 4 5 6\n",
    "\n",
    " offs: 1 0 1 2\n",
    "adult: 0 1 1 2\n",
    "d age: 0 0 0 1\n",
    "total: 1 1 2 2"
   ]
  },
  {
   "cell_type": "code",
   "execution_count": null,
   "id": "2e04806e",
   "metadata": {},
   "outputs": [],
   "source": [
    "num of adult 2 month ago die \n",
    "num of children 3 month ago die"
   ]
  },
  {
   "cell_type": "code",
   "execution_count": null,
   "id": "b83a6d11",
   "metadata": {},
   "outputs": [],
   "source": [
    "births = r * (fn-1)\n",
    "adults = \n",
    "seniors = "
   ]
  },
  {
   "cell_type": "code",
   "execution_count": null,
   "id": "df736b88",
   "metadata": {},
   "outputs": [],
   "source": [
    "     1 2 3 4 5 6 7 8       REAL\n",
    "died:    0 1 0 1\n",
    "born:    1 1 1 2\n",
    "aliv:    1 1 2 2\n",
    "tota:1 1 2 2 3 4\n",
    "\n",
    "\n",
    "\n",
    "     1 2 3 4 5 6       classical\n",
    "died:    0 1 1 2\n",
    "born:    1 1 2 2\n",
    "aliv:    1 2 2 3\n",
    "tota:1 1 2 2 3 3\n"
   ]
  },
  {
   "cell_type": "code",
   "execution_count": null,
   "id": "ebe959b1",
   "metadata": {},
   "outputs": [],
   "source": [
    "answer(6,3)"
   ]
  }
 ],
 "metadata": {
  "kernelspec": {
   "display_name": "base",
   "language": "python",
   "name": "python3"
  },
  "language_info": {
   "codemirror_mode": {
    "name": "ipython",
    "version": 3
   },
   "file_extension": ".py",
   "mimetype": "text/x-python",
   "name": "python",
   "nbconvert_exporter": "python",
   "pygments_lexer": "ipython3",
   "version": "3.12.7"
  },
  "vscode": {
   "interpreter": {
    "hash": "990e1f17a00c62ab24450486c72a09c1a47e11c07964c580313e39dbe3d9bc1b"
   }
  }
 },
 "nbformat": 4,
 "nbformat_minor": 5
}
