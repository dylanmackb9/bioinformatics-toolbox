{
 "cells": [
  {
   "cell_type": "code",
   "execution_count": 42,
   "id": "1a67e062-2f64-49c0-8861-a9cc93a26222",
   "metadata": {},
   "outputs": [],
   "source": [
    "from scripts.utils import read_fasta\n",
    "import os\n",
    "import pandas as pd\n",
    "\n",
    "data_path = os.path.expanduser(\"~/Development/gitreps/bioinformatics-toolbox/data/rosalind_lcsm.txt\")"
   ]
  },
  {
   "cell_type": "code",
   "execution_count": 43,
   "id": "3216efe7-6322-4686-b3b3-be48eefb9cac",
   "metadata": {},
   "outputs": [],
   "source": [
    "## Ingest data\n",
    "\n",
    "data = read_fasta(data_path)"
   ]
  },
  {
   "cell_type": "code",
   "execution_count": 46,
   "id": "64d1e14e",
   "metadata": {},
   "outputs": [],
   "source": [
    "def answer(data):\n",
    "\n",
    "    return result\n",
    " "
   ]
  },
  {
   "cell_type": "code",
   "execution_count": 47,
   "id": "6a6cb5a2",
   "metadata": {},
   "outputs": [
    {
     "data": {
      "text/plain": [
       "'GGCCGTCCAAAAATTGCTTCCAGGCTCGGATCCCCTGTCCACAAATTGGTCAGGCGATGGTAGTTTCCCGAGCTGATGAACTCTAAACTCTTTAGGGGTCATGAGCAGAAGGGCTTGTACGTCGATGGTAGGTGATGTATTACAGAGACTGTCTGTCTAGTGATAGTTCTTTCACAACTGGTGAA'"
      ]
     },
     "execution_count": 47,
     "metadata": {},
     "output_type": "execute_result"
    }
   ],
   "source": [
    "ans = answer(data)\n",
    "ans"
   ]
  },
  {
   "cell_type": "code",
   "execution_count": null,
   "id": "686408a9",
   "metadata": {},
   "outputs": [],
   "source": []
  }
 ],
 "metadata": {
  "kernelspec": {
   "display_name": "base",
   "language": "python",
   "name": "python3"
  },
  "language_info": {
   "codemirror_mode": {
    "name": "ipython",
    "version": 3
   },
   "file_extension": ".py",
   "mimetype": "text/x-python",
   "name": "python",
   "nbconvert_exporter": "python",
   "pygments_lexer": "ipython3",
   "version": "3.12.7"
  },
  "vscode": {
   "interpreter": {
    "hash": "990e1f17a00c62ab24450486c72a09c1a47e11c07964c580313e39dbe3d9bc1b"
   }
  }
 },
 "nbformat": 4,
 "nbformat_minor": 5
}
