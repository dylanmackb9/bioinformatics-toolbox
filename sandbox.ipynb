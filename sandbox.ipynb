{
 "cells": [
  {
   "cell_type": "code",
   "execution_count": 1,
   "id": "1a67e062-2f64-49c0-8861-a9cc93a26222",
   "metadata": {},
   "outputs": [],
   "source": [
    "from scripts.utils import read_fasta\n",
    "import os\n",
    "import pandas as pd\n",
    "\n",
    "data_path = os.path.expanduser(\"~/Development/gitreps/bioinformatics-toolbox/data/rosalind_grph.txt\")"
   ]
  },
  {
   "cell_type": "code",
   "execution_count": 2,
   "id": "3216efe7-6322-4686-b3b3-be48eefb9cac",
   "metadata": {},
   "outputs": [],
   "source": [
    "## Ingest data\n",
    "\n",
    "data = read_fasta(data_path)"
   ]
  },
  {
   "cell_type": "code",
   "execution_count": null,
   "id": "936bf02f",
   "metadata": {},
   "outputs": [],
   "source": [
    "each couple type is a random variable that takes values of if that couples child is dominant (1) or recessive (0) phenotype."
   ]
  },
  {
   "cell_type": "code",
   "execution_count": 16,
   "id": "64d1e14e",
   "metadata": {},
   "outputs": [],
   "source": [
    "def answer(couples: list):\n",
    "\n",
    "    expected_vals = [1, 1, 1, 0.75, 0.5, 0]\n",
    "    j = 0  # numbered couple\n",
    "    E = 0  # Expected value\n",
    "    for couple in couples:\n",
    "\n",
    "        ## Expeceted value calc - iterate over number of options\n",
    "        for i in range(1, couple+1):\n",
    "            E += 1 * expected_vals[j] * 2\n",
    "        j += 1\n",
    "    \n",
    "        print(E)\n",
    "\n",
    "    return E\n"
   ]
  },
  {
   "cell_type": "code",
   "execution_count": 18,
   "id": "6a6cb5a2",
   "metadata": {},
   "outputs": [
    {
     "name": "stdout",
     "output_type": "stream",
     "text": [
      "36046\n",
      "72790\n",
      "111920\n",
      "140828.0\n",
      "157688.0\n",
      "157688.0\n"
     ]
    },
    {
     "data": {
      "text/plain": [
       "157688.0"
      ]
     },
     "execution_count": 18,
     "metadata": {},
     "output_type": "execute_result"
    }
   ],
   "source": [
    "ans = answer([18023,18372, 19565, 19272, 16860, 19578])\n",
    "ans"
   ]
  },
  {
   "cell_type": "code",
   "execution_count": null,
   "id": "686408a9",
   "metadata": {},
   "outputs": [],
   "source": []
  }
 ],
 "metadata": {
  "kernelspec": {
   "display_name": "base",
   "language": "python",
   "name": "python3"
  },
  "language_info": {
   "codemirror_mode": {
    "name": "ipython",
    "version": 3
   },
   "file_extension": ".py",
   "mimetype": "text/x-python",
   "name": "python",
   "nbconvert_exporter": "python",
   "pygments_lexer": "ipython3",
   "version": "3.12.7"
  },
  "vscode": {
   "interpreter": {
    "hash": "990e1f17a00c62ab24450486c72a09c1a47e11c07964c580313e39dbe3d9bc1b"
   }
  }
 },
 "nbformat": 4,
 "nbformat_minor": 5
}
