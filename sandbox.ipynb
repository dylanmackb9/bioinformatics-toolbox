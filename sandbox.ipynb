{
 "cells": [
  {
   "cell_type": "code",
   "execution_count": 184,
   "id": "1a67e062-2f64-49c0-8861-a9cc93a26222",
   "metadata": {},
   "outputs": [],
   "source": [
    "from scripts.utils import read_fasta\n",
    "import os\n",
    "import pandas as pd\n",
    "\n",
    "data_path = os.path.expanduser(\"~/Development/gitreps/bioinformatics-toolbox/data/rosalind_cons.txt\")"
   ]
  },
  {
   "cell_type": "code",
   "execution_count": 185,
   "id": "3216efe7-6322-4686-b3b3-be48eefb9cac",
   "metadata": {},
   "outputs": [],
   "source": [
    "## Ingest data\n",
    "t = read_fasta(data_path)"
   ]
  },
  {
   "cell_type": "code",
   "execution_count": 187,
   "id": "e6bff13f-dc1f-4ee5-a60b-37cd61ee8eeb",
   "metadata": {},
   "outputs": [],
   "source": [
    "## Turning dict into dataframe matrix\n",
    "mydf = []\n",
    "for i, j in t.items():\n",
    "    mydf.append([j])\n",
    "\n",
    "df = pd.DataFrame(mydf)\n",
    "df = df[0].apply(lambda x: pd.Series(list(x)))\n"
   ]
  },
  {
   "cell_type": "code",
   "execution_count": 188,
   "id": "aa015b71",
   "metadata": {},
   "outputs": [],
   "source": [
    "def build_profile(df):\n",
    "\n",
    "    ## Create frame\n",
    "\n",
    "    N = df.shape[-1]\n",
    "    profile_df = pd.DataFrame(0, index=['A', 'C', 'G', 'T'], columns=[i for i in range(N)])  # f'col_{i+1}'\n",
    "\n",
    "    ## Count occurence and sum\n",
    "    a_df = df.map(lambda x: 1 if x == \"A\" else 0).sum()\n",
    "    c_df = df.map(lambda x: 1 if x == \"C\" else 0).sum()\n",
    "    g_df = df.map(lambda x: 1 if x == \"G\" else 0).sum()\n",
    "    t_df = df.map(lambda x: 1 if x == \"T\" else 0).sum()\n",
    "\n",
    "    profile_df.loc[\"A\"] = a_df\n",
    "    profile_df.loc[\"C\"] = c_df\n",
    "    profile_df.loc[\"G\"] = g_df\n",
    "    profile_df.loc[\"T\"] = t_df\n",
    "\n",
    "    consensus = \"\".join(list(profile_df.idxmax()))\n",
    "\n",
    "    print(consensus)\n",
    "    return consensus, profile_df\n"
   ]
  },
  {
   "cell_type": "code",
   "execution_count": 189,
   "id": "9b2f859c",
   "metadata": {},
   "outputs": [
    {
     "name": "stdout",
     "output_type": "stream",
     "text": [
      "GAATCATCGCCTAACGCATGGATGCGTGAATGAGATAGGTAGTATCCACGCGCCAGCTGAGGTCCTAGTCATGGGAGATTAACGGCGAAGGTCCCGGCAAAGAACCGCAACCCGAAGAGATGACTTTCTTGGAAGCGTTTGGAAATGACGGGGAAAATGAAGAATTAACACGGGAGGCTAAGTGATATTGCCTACGAGTACGCAAACAATCGTCGCGTCAATCTAACGAATAGGGCATTGAGTGCCCTGCCCGAGTACGCACCCTCTTGGAACGTAGATGCCTATTGATGCAAATGGCACGTCCATCGGAGCGAACAAAAGATCTACCGACCGCGCTGCGGAGATCAACGCTCATAGAAAGCCCCGTGTAATACGTCATGGGCACCAAAGCAACGAGTCTACTGAGATCCGGATGACAAAGTATCACGCGATATCGATGGCCATTATGTGTACTCAAACCATTGAGCACACATAGCGAATAAATCAAGTAATATACCAGATAAAGACGTTTACCAGGTGATTCAAAATCGCCCAAATATTGCAAAGGACGCGTTCGACTAAGGGGCACCGAAATAACATCGCCATAGGGAAAGCATTTAACTGTAGACAATCGCGGGCTTAGTACAGCAGTACAGCTATCCCAACCAGTAACTCATATTCGGCAAGGCCTTCCGGCCGATATGCTGCCGCCAGACATAAGTAGACCTAGGGAGAATTGGGGCGAACATCGCGACCCACCCTAAGTTGGCACTATCAGATTGAGGATCCTATACAAGTATGAATCCACAGAGAGCAGACGAGAGAACGACATGAATGTCGGAAGTATAGACTAAACGTACGTGAAATGCGTATGGACTACTCCGCGATCAAAATTTATCAGTGCCACGCAGATCGGGAGTAGGAGCGATAAAAAGCAAAACAATATCAGCTCAACACAATACGAAAGACTCAACAGAAGGAAGTAAGTAACACCGCT\n"
     ]
    }
   ],
   "source": [
    "con, prof = build_profile(df)"
   ]
  },
  {
   "cell_type": "code",
   "execution_count": 190,
   "id": "95168cee",
   "metadata": {},
   "outputs": [],
   "source": [
    "# Prepare the output format\n",
    "output = []\n",
    "for idx, row in prof.iterrows():\n",
    "    # Format the row: index (as letter) followed by space-separated values\n",
    "    formatted_row = f\"{idx[0]}: \" + \" \".join(map(str, row))\n",
    "    output.append(formatted_row)\n",
    "\n",
    "# Write the formatted output to a file\n",
    "with open('output.txt', 'w') as f:\n",
    "    f.write(con)\n",
    "    f.write(\"\\n\")\n",
    "    f.write(\"\\n\".join(output))"
   ]
  },
  {
   "cell_type": "code",
   "execution_count": null,
   "id": "f159d942",
   "metadata": {},
   "outputs": [],
   "source": []
  }
 ],
 "metadata": {
  "kernelspec": {
   "display_name": "base",
   "language": "python",
   "name": "python3"
  },
  "language_info": {
   "codemirror_mode": {
    "name": "ipython",
    "version": 3
   },
   "file_extension": ".py",
   "mimetype": "text/x-python",
   "name": "python",
   "nbconvert_exporter": "python",
   "pygments_lexer": "ipython3",
   "version": "3.12.7"
  },
  "vscode": {
   "interpreter": {
    "hash": "990e1f17a00c62ab24450486c72a09c1a47e11c07964c580313e39dbe3d9bc1b"
   }
  }
 },
 "nbformat": 4,
 "nbformat_minor": 5
}
