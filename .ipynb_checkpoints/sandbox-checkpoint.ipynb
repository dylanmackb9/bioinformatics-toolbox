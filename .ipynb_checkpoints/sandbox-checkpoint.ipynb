{
 "cells": [
  {
   "cell_type": "code",
   "execution_count": 17,
   "id": "1a67e062-2f64-49c0-8861-a9cc93a26222",
   "metadata": {},
   "outputs": [],
   "source": [
    "from scripts.utils import read_fasta\n",
    "import os"
   ]
  },
  {
   "cell_type": "code",
   "execution_count": 21,
   "id": "734de1e4-deab-464b-9551-7ec0a4ba92b7",
   "metadata": {},
   "outputs": [
    {
     "data": {
      "text/plain": [
       "<_io.TextIOWrapper name='/Users/dylan/Development/gitreps/bioinformatics-toolbox/data/example_FASTA_data.rtf' mode='r' encoding='UTF-8'>"
      ]
     },
     "execution_count": 21,
     "metadata": {},
     "output_type": "execute_result"
    }
   ],
   "source": [
    "open(os.path.expanduser(\"~/Development/gitreps/bioinformatics-toolbox/data/example_FASTA_data.rtf\"))\n"
   ]
  },
  {
   "cell_type": "code",
   "execution_count": 24,
   "id": "da60ac13-2b01-4e2b-b4ca-ca5eaa76b609",
   "metadata": {},
   "outputs": [],
   "source": [
    "p = os.path.expanduser(\"~/Development/gitreps/bioinformatics-toolbox/data/example_FASTA_data.rtf\")"
   ]
  },
  {
   "cell_type": "code",
   "execution_count": 26,
   "id": "3216efe7-6322-4686-b3b3-be48eefb9cac",
   "metadata": {},
   "outputs": [],
   "source": [
    "t = read_fasta(p)"
   ]
  },
  {
   "cell_type": "code",
   "execution_count": 27,
   "id": "d485b286-3040-4871-be9c-8aa5597a0585",
   "metadata": {},
   "outputs": [],
   "source": [
    "t"
   ]
  },
  {
   "cell_type": "code",
   "execution_count": null,
   "id": "e6bff13f-dc1f-4ee5-a60b-37cd61ee8eeb",
   "metadata": {},
   "outputs": [],
   "source": []
  }
 ],
 "metadata": {
  "kernelspec": {
   "display_name": "Python 3 (ipykernel)",
   "language": "python",
   "name": "python3"
  },
  "language_info": {
   "codemirror_mode": {
    "name": "ipython",
    "version": 3
   },
   "file_extension": ".py",
   "mimetype": "text/x-python",
   "name": "python",
   "nbconvert_exporter": "python",
   "pygments_lexer": "ipython3",
   "version": "3.12.7"
  }
 },
 "nbformat": 4,
 "nbformat_minor": 5
}
